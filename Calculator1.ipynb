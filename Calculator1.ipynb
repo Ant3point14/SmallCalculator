{
 "cells": [
  {
   "cell_type": "code",
   "execution_count": 1,
   "metadata": {},
   "outputs": [],
   "source": [
    "import torch\n",
    "from torch import nn\n",
    "import torch.nn.functional as F\n",
    "import matplotlib.pyplot as plt # for making figures\n",
    "from random import randint as r_int, getrandbits, shuffle\n",
    "\n",
    "#Encoding and decoding of characters and indexes\n",
    "chars = \"0123456789.=+-*\"[:]\n",
    "stoi = {s:i for i,s in enumerate(chars)}\n",
    "itos = {i:s for s,i in stoi.items()}\n",
    "vocab_size = len(itos)\n",
    "\n",
    "\n",
    "## Create data\n",
    "block_size = 24\n",
    "\n",
    "#Generates \n",
    "def build_data(examples:int, digits = 6, doShuffle = True):\n",
    "  data = []\n",
    "  X,Y =[], []\n",
    "\n",
    "  for i in range(examples):\n",
    "    a, b = r_int(0, 10**digits), r_int(0, 10**digits)\n",
    "    a_negative, b_negative = bool(getrandbits(1)), bool(getrandbits(1))\n",
    "    c = (-a if a_negative else a) + (-b if b_negative else b)\n",
    "    x = (\"-\" if a_negative else \"\") + str(a)[::-1] + (\"-\" if b_negative else \"+\") + str(b)[::-1] + \"=\"\n",
    "    y = (\"-\" if c < 0 else \"\") + str(abs(c))[::-1] + \".\"\n",
    "    data.append([x,y])\n",
    "\n",
    "  for x,y in data:\n",
    "    context = (block_size - len(x)) * [10] + [stoi[ix] for ix in x]\n",
    "    for char in y:\n",
    "      iy = stoi[char]\n",
    "      X.append(context)\n",
    "      Y.append(iy)\n",
    "      context = context[1:] + [iy]\n",
    "\n",
    "  combined = list(zip(X, Y))\n",
    "  if doShuffle:\n",
    "    shuffle(combined)\n",
    "  X, Y = zip(*combined)\n",
    "  X = torch.tensor(X)\n",
    "  Y = torch.tensor(Y)\n",
    "  return X, Y\n",
    "\n"
   ]
  },
  {
   "cell_type": "code",
   "execution_count": 2,
   "metadata": {},
   "outputs": [],
   "source": [
    "## Choosing NN, loss_fn\n",
    "# hierarchical network\n",
    "n_embd = 24 # the dimensionality of the character embedding vectors\n",
    "n_hidden = 128 # the number of neurons in the hidden layer of the MLP\n",
    "\n",
    "#NN class\n",
    "class num_LM(nn.Module):\n",
    "\n",
    "    def __init__(self, activation_layers):\n",
    "        super().__init__()\n",
    "        \n",
    "        #Embeding\n",
    "        self.embeding = nn.Embedding(vocab_size, n_embd)\n",
    "        \n",
    "        #Linear and tanh layers\n",
    "        layers = [nn.Linear(n_embd*block_size, n_hidden,False), nn.Tanh()]        \n",
    "        for i in range(activation_layers-1):\n",
    "            layers.append(nn.Linear(n_hidden, n_hidden, False))\n",
    "            layers.append(nn.Tanh())\n",
    "        layers.append(nn.Linear(n_hidden, vocab_size,False))\n",
    "        \n",
    "        self.layers = nn.ParameterList(layers)\n",
    "        \n",
    "    def forward(self, x):\n",
    "        #Embeding\n",
    "        batch_size = x.shape[0]\n",
    "        x = self.embeding(x).view(batch_size,-1)\n",
    "        \n",
    "        #Linear and tanh layers\n",
    "        for layer in self.layers:\n",
    "            x = layer(x)\n",
    "            \n",
    "        return x\n",
    "        \n",
    "    def save(self, model_path):\n",
    "        torch.save(model.state_dict(), model_path)\n",
    "\n",
    "    def load(self, model_path):\n",
    "        self.load_state_dict(torch.load(model_path))\n",
    "        \n",
    "model = num_LM(4) #Number of activation layers\n",
    "loss_fn = nn.CrossEntropyLoss()\n",
    "optimizer = torch.optim.Adam(model.parameters(), lr=5e-4, betas=(0.9, 0.999), eps=1e-08)"
   ]
  },
  {
   "cell_type": "code",
   "execution_count": 3,
   "metadata": {},
   "outputs": [],
   "source": [
    "#generate new batch for each epoch to reduce overfitting, can be turned off\n",
    "replace_batches = True\n",
    "\n",
    "if replace_batches:\n",
    "    Xtr, Ytr = None, None #needs to be defined\n",
    "else:\n",
    "    Xtr, Ytr = build_data(200_000)\n",
    "    \n",
    "Xte, Yte = build_data(10_000)"
   ]
  },
  {
   "cell_type": "code",
   "execution_count": 4,
   "metadata": {},
   "outputs": [
    {
     "name": "stdout",
     "output_type": "stream",
     "text": [
      "      0/ 25k, Initiation loss:2.7189\n",
      "      2k/ 25k, Batch:1.8064, Rolling:1.7608\n",
      "      5k/ 25k, Batch:0.8932, Rolling:0.9409\n",
      "      7k/ 25k, Batch:0.5219, Rolling:0.4867\n",
      "     10k/ 25k, Batch:0.4203, Rolling:0.3856\n",
      "     12k/ 25k, Batch:0.3789, Rolling:0.3520\n",
      "     15k/ 25k, Batch:0.4861, Rolling:0.3378\n",
      "     17k/ 25k, Batch:0.4569, Rolling:0.3279\n",
      "     20k/ 25k, Batch:0.4891, Rolling:0.3252\n",
      "     22k/ 25k, Batch:0.2434, Rolling:0.3218\n",
      "     25k/ 25k, Batch:0.1908, Rolling:0.3020\n"
     ]
    },
    {
     "data": {
      "text/plain": [
       "0.19080732762813568"
      ]
     },
     "execution_count": 4,
     "metadata": {},
     "output_type": "execute_result"
    }
   ],
   "source": [
    "## Training NN\n",
    "# same optimization as last time\n",
    "max_steps = 25_000\n",
    "interval = 2_500\n",
    "batch_size = 32\n",
    "lossi = []\n",
    "\n",
    "\n",
    "\n",
    "for i in range(max_steps+1):\n",
    "    # minibatch construct\n",
    "    if replace_batches: #new batch each epoch\n",
    "        Xb, Yb = build_data(batch_size, doShuffle=False)\n",
    "    else: #generate batches from earlier generated dataset\n",
    "        ix = torch.randint(0, Xtr.shape[0], (batch_size,))\n",
    "        Xb, Yb = Xtr[ix], Ytr[ix] # batch X,Y\n",
    "\n",
    "    # forward pass\n",
    "    y_pred = model(Xb)\n",
    "    optimizer.zero_grad()\n",
    "    loss = loss_fn(y_pred, Yb) # loss function\n",
    "    loss.backward()\n",
    "    optimizer.step()\n",
    "\n",
    "    # track stats\n",
    "    if i == 0:\n",
    "            print(f'{i:7d}/{max_steps//1000:3d}k, Initiation loss:{loss.item():.4f}')\n",
    "            roll_loss = loss.item()\n",
    "        \n",
    "    if (i) % interval == 0 and i != 0:\n",
    "            #Rolling loss is less fluctuacting than batch loss and helps indicate real progress instead of lucky batch\n",
    "            print(f'{i//1000:7d}k/{max_steps//1000:3d}k, Batch:{loss.item():.4f}, Rolling:{roll_loss:.4f}') \n",
    "            \n",
    "    roll_loss = roll_loss * 0.995 + loss.item() * 0.005\n",
    "    lossi.append(loss.item())\n",
    "lossi.pop()"
   ]
  },
  {
   "cell_type": "code",
   "execution_count": 5,
   "metadata": {},
   "outputs": [
    {
     "data": {
      "image/png": "[encoded data removed]",
      "text/plain": [
       "<Figure size 640x480 with 1 Axes>"
      ]
     },
     "metadata": {},
     "output_type": "display_data"
    }
   ],
   "source": [
    "plt.plot(torch.tensor(lossi).view(-1, 1000).mean(1))\n",
    "plt.show()"
   ]
  },
  {
   "cell_type": "code",
   "execution_count": 27,
   "metadata": {},
   "outputs": [
    {
     "name": "stdout",
     "output_type": "stream",
     "text": [
      "test tensor(0.1908)\n",
      "-443136+521566=18733\n"
     ]
    },
    {
     "ename": "TypeError",
     "evalue": "str.join() takes exactly one argument (2 given)",
     "output_type": "error",
     "traceback": [
      "\u001b[1;31m---------------------------------------------------------------------------\u001b[0m",
      "\u001b[1;31mTypeError\u001b[0m                                 Traceback (most recent call last)",
      "\u001b[1;32mc:\\Users\\adam7\\Desktop\\Studia\\Koła naukowe\\AI\\Calculator\\Calculator1.ipynb Cell 6\u001b[0m line \u001b[0;36m4\n\u001b[0;32m     <a href='vscode-notebook-cell:/c%3A/Users/adam7/Desktop/Studia/Ko%C5%82a%20naukowe/AI/Calculator/Calculator1.ipynb#W5sZmlsZQ%3D%3D?line=40'>41</a>\u001b[0m     separator\u001b[39m.\u001b[39mappend(\u001b[39m\"\u001b[39m\u001b[39m\"\u001b[39m)\n\u001b[0;32m     <a href='vscode-notebook-cell:/c%3A/Users/adam7/Desktop/Studia/Ko%C5%82a%20naukowe/AI/Calculator/Calculator1.ipynb#W5sZmlsZQ%3D%3D?line=41'>42</a>\u001b[0m   \u001b[39melse\u001b[39;00m:\n\u001b[1;32m---> <a href='vscode-notebook-cell:/c%3A/Users/adam7/Desktop/Studia/Ko%C5%82a%20naukowe/AI/Calculator/Calculator1.ipynb#W5sZmlsZQ%3D%3D?line=42'>43</a>\u001b[0m     separator[j] \u001b[39m=\u001b[39m \u001b[39m\"\u001b[39;49m\u001b[39m\"\u001b[39;49m\u001b[39m.\u001b[39;49mjoin(separator[j], i)\n\u001b[0;32m     <a href='vscode-notebook-cell:/c%3A/Users/adam7/Desktop/Studia/Ko%C5%82a%20naukowe/AI/Calculator/Calculator1.ipynb#W5sZmlsZQ%3D%3D?line=43'>44</a>\u001b[0m \u001b[39mfor\u001b[39;00m i \u001b[39min\u001b[39;00m \u001b[39mrange\u001b[39m(j\u001b[39m+\u001b[39m\u001b[39m1\u001b[39m):\n\u001b[0;32m     <a href='vscode-notebook-cell:/c%3A/Users/adam7/Desktop/Studia/Ko%C5%82a%20naukowe/AI/Calculator/Calculator1.ipynb#W5sZmlsZQ%3D%3D?line=44'>45</a>\u001b[0m   separator[i] \u001b[39m=\u001b[39m separator[i][::\u001b[39m-\u001b[39m\u001b[39m1\u001b[39m]\n",
      "\u001b[1;31mTypeError\u001b[0m: str.join() takes exactly one argument (2 given)"
     ]
    }
   ],
   "source": [
    "## Visualisations, evaluate the loss\n",
    "@torch.no_grad() # this decorator disables gradient tracking inside pytorch\n",
    "def split_loss(split):\n",
    "  x,y = {\n",
    "    #'train': (Xtr, Ytr),\n",
    "    'test': (Xte, Yte),\n",
    "  }[split]\n",
    "  loss = loss_fn(y_pred, Yb) # loss function\n",
    "  print(split, loss)\n",
    "\n",
    "split_loss('test')\n",
    "\n",
    "## Output testing\n",
    "X_check, Y_check = build_data(100)\n",
    "\n",
    "for i in range(1):\n",
    "    context = X_check[i].tolist()\n",
    "    out = context\n",
    "    while True:\n",
    "      # forward pass the neural net\n",
    "      logits = model(torch.tensor([context]))\n",
    "      probs = F.softmax(logits, dim=1)\n",
    "      # sample from the distribution\n",
    "      ix = torch.multinomial(probs, num_samples=1).item()\n",
    "      # shift the context window and track the samples\n",
    "      context = context[1:] + [ix]\n",
    "      out.append(ix)\n",
    "      # if we sample the special '.' token, break\n",
    "      if ix == 10:\n",
    "        break\n",
    "    \n",
    "    out = ''.join(itos[i] for i in out) # decode and print the generated word\n",
    "    out = out.replace(\".\",\"\")\n",
    "    print(out)\n",
    "    separator = []\n",
    "    j = 0\n",
    "    for i in out:\n",
    "      if i in \"+-=\":\n",
    "        separator.append(i)\n",
    "        j += 1\n",
    "        separator.append(\"\")\n",
    "      else:\n",
    "        separator[j] = \"\".join(separator[j], i)\n",
    "    for i in range(j+1):\n",
    "      separator[i] = separator[i][::-1]\n",
    "    \n",
    "print(out)"
   ]
  }
 ],
 "metadata": {
  "kernelspec": {
   "display_name": "Python 3",
   "language": "python",
   "name": "python3"
  },
  "language_info": {
   "codemirror_mode": {
    "name": "ipython",
    "version": 3
   },
   "file_extension": ".py",
   "mimetype": "text/x-python",
   "name": "python",
   "nbconvert_exporter": "python",
   "pygments_lexer": "ipython3",
   "version": "3.11.0"
  },
  "orig_nbformat": 4
 },
 "nbformat": 4,
 "nbformat_minor": 2
}
